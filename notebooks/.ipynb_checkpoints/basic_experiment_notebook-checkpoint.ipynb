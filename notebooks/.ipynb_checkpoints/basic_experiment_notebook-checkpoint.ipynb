{
 "cells": [
  {
   "cell_type": "markdown",
   "metadata": {},
   "source": [
    "# BASIC-ENV EXAMPLE NOTEBOOK"
   ]
  },
  {
   "cell_type": "markdown",
   "metadata": {},
   "source": [
    "This notebook contains an example workbench to work with Anaconda/Jupyter environment.\n",
    "Basically its function consists on:\n",
    "* Upload data from a source as a result of an experiment executed (it uses a csv datafile).\n",
    "* Process contained data with numpy mechanisms.\n",
    "* Calculate some statistics and predictions.\n",
    "* Plot a graphic for analysis.\n",
    "\n",
    "We will use a **[BP]** notation to mark a Best-Practice."
   ]
  },
  {
   "cell_type": "markdown",
   "metadata": {},
   "source": [
    "Author: Alvaro Paricio. sept.2016"
   ]
  },
  {
   "cell_type": "markdown",
   "metadata": {},
   "source": [
    "## First of all..."
   ]
  },
  {
   "cell_type": "markdown",
   "metadata": {},
   "source": [
    "### [BP] Do your imports"
   ]
  },
  {
   "cell_type": "markdown",
   "metadata": {},
   "source": [
    "It is a good practice that your experiment does all the imports, declarations and macros before executing anythings.\n",
    "This is the imports sections."
   ]
  },
  {
   "cell_type": "code",
   "execution_count": 19,
   "metadata": {
    "collapsed": false
   },
   "outputs": [],
   "source": [
    "%matplotlib inline\n",
    "\n",
    "import numpy as np\n",
    "import matplotlib.pyplot as plt\n",
    "import matplotlib.mlab as mlab\n",
    "import matplotlib.lines as mlines\n",
    "\n",
    "import sklearn as sk\n",
    "import pandas as pd"
   ]
  },
  {
   "cell_type": "markdown",
   "metadata": {},
   "source": [
    "### [BP] Function declarations"
   ]
  },
  {
   "cell_type": "markdown",
   "metadata": {},
   "source": [
    "It is a good practice that you add any function at the beginning and also add its inlined doc."
   ]
  },
  {
   "cell_type": "code",
   "execution_count": 20,
   "metadata": {
    "collapsed": false
   },
   "outputs": [],
   "source": [
    "def fun_A():\n",
    "    print(\"This is function A\")"
   ]
  },
  {
   "cell_type": "markdown",
   "metadata": {},
   "source": [
    "### [BP] Call declarations"
   ]
  },
  {
   "cell_type": "markdown",
   "metadata": {},
   "source": [
    "It is a good practice that you add any call definition at the beginning and also add its inlined doc."
   ]
  },
  {
   "cell_type": "code",
   "execution_count": 21,
   "metadata": {
    "collapsed": true
   },
   "outputs": [],
   "source": [
    "# Add here your class code"
   ]
  },
  {
   "cell_type": "markdown",
   "metadata": {},
   "source": [
    "## Experiment \"the experiment name\""
   ]
  },
  {
   "cell_type": "markdown",
   "metadata": {},
   "source": [
    "### Purpose\n",
    "Describe here your experiment purpose."
   ]
  },
  {
   "cell_type": "markdown",
   "metadata": {},
   "source": [
    "### Context\n",
    "Declare here your experiment variables and context."
   ]
  },
  {
   "cell_type": "markdown",
   "metadata": {},
   "source": [
    "### Analysis"
   ]
  },
  {
   "cell_type": "code",
   "execution_count": 22,
   "metadata": {
    "collapsed": false
   },
   "outputs": [
    {
     "data": {
      "text/html": [
       "<div>\n",
       "<table border=\"1\" class=\"dataframe\">\n",
       "  <thead>\n",
       "    <tr style=\"text-align: right;\">\n",
       "      <th></th>\n",
       "      <th>id</th>\n",
       "      <th>t_depart_secs</th>\n",
       "      <th>t_arrival_secs</th>\n",
       "      <th>t_traveltime_secs</th>\n",
       "      <th>origin</th>\n",
       "      <th>destiny</th>\n",
       "      <th>route_detail</th>\n",
       "      <th>route_path_num</th>\n",
       "      <th>is_attended</th>\n",
       "      <th>has_finished</th>\n",
       "    </tr>\n",
       "  </thead>\n",
       "  <tbody>\n",
       "    <tr>\n",
       "      <th>0</th>\n",
       "      <td>2304</td>\n",
       "      <td>0</td>\n",
       "      <td>241</td>\n",
       "      <td>241</td>\n",
       "      <td>1/11to2/11</td>\n",
       "      <td>11/3to12/3</td>\n",
       "      <td>1/11to2/11:2/11to3/11:3/11to4/11:4/11to5/11:5/...</td>\n",
       "      <td>19</td>\n",
       "      <td>False</td>\n",
       "      <td>True</td>\n",
       "    </tr>\n",
       "    <tr>\n",
       "      <th>1</th>\n",
       "      <td>3126</td>\n",
       "      <td>0</td>\n",
       "      <td>161</td>\n",
       "      <td>161</td>\n",
       "      <td>bottom7to7/0</td>\n",
       "      <td>10/9to10/10</td>\n",
       "      <td>bottom7to7/0:7/0to7/1:7/1to7/2:7/2to7/3:7/3to7...</td>\n",
       "      <td>14</td>\n",
       "      <td>True</td>\n",
       "      <td>True</td>\n",
       "    </tr>\n",
       "    <tr>\n",
       "      <th>2</th>\n",
       "      <td>74</td>\n",
       "      <td>0</td>\n",
       "      <td>373</td>\n",
       "      <td>373</td>\n",
       "      <td>left15to0/15</td>\n",
       "      <td>15/0tobottom15</td>\n",
       "      <td>left15to0/15:0/15to0/14:0/14to0/13:0/13to0/12:...</td>\n",
       "      <td>32</td>\n",
       "      <td>True</td>\n",
       "      <td>True</td>\n",
       "    </tr>\n",
       "    <tr>\n",
       "      <th>3</th>\n",
       "      <td>65</td>\n",
       "      <td>0</td>\n",
       "      <td>382</td>\n",
       "      <td>382</td>\n",
       "      <td>left15to0/15</td>\n",
       "      <td>15/0tobottom15</td>\n",
       "      <td>left15to0/15:0/15to0/14:0/14to0/13:0/13to0/12:...</td>\n",
       "      <td>32</td>\n",
       "      <td>True</td>\n",
       "      <td>True</td>\n",
       "    </tr>\n",
       "    <tr>\n",
       "      <th>4</th>\n",
       "      <td>690</td>\n",
       "      <td>0</td>\n",
       "      <td>35</td>\n",
       "      <td>35</td>\n",
       "      <td>13/7to14/7</td>\n",
       "      <td>14/6to14/5</td>\n",
       "      <td>13/7to14/7:14/7to14/6:14/6to14/5:</td>\n",
       "      <td>3</td>\n",
       "      <td>True</td>\n",
       "      <td>True</td>\n",
       "    </tr>\n",
       "  </tbody>\n",
       "</table>\n",
       "</div>"
      ],
      "text/plain": [
       "     id  t_depart_secs  t_arrival_secs  t_traveltime_secs        origin  \\\n",
       "0  2304              0             241                241    1/11to2/11   \n",
       "1  3126              0             161                161  bottom7to7/0   \n",
       "2    74              0             373                373  left15to0/15   \n",
       "3    65              0             382                382  left15to0/15   \n",
       "4   690              0              35                 35    13/7to14/7   \n",
       "\n",
       "          destiny                                       route_detail  \\\n",
       "0      11/3to12/3  1/11to2/11:2/11to3/11:3/11to4/11:4/11to5/11:5/...   \n",
       "1     10/9to10/10  bottom7to7/0:7/0to7/1:7/1to7/2:7/2to7/3:7/3to7...   \n",
       "2  15/0tobottom15  left15to0/15:0/15to0/14:0/14to0/13:0/13to0/12:...   \n",
       "3  15/0tobottom15  left15to0/15:0/15to0/14:0/14to0/13:0/13to0/12:...   \n",
       "4      14/6to14/5                  13/7to14/7:14/7to14/6:14/6to14/5:   \n",
       "\n",
       "   route_path_num is_attended has_finished  \n",
       "0              19       False         True  \n",
       "1              14        True         True  \n",
       "2              32        True         True  \n",
       "3              32        True         True  \n",
       "4               3        True         True  "
      ]
     },
     "execution_count": 22,
     "metadata": {},
     "output_type": "execute_result"
    }
   ],
   "source": [
    "dir = \"/Users/alvaro/Desktop/workspace/mutraff/uah-gist-mutraff-basic-env/\"\n",
    "experiment = \"data_Grid_160926_124432\"\n",
    "datafile = dir + \"/experiments/\" + experiment + \".csv\"\n",
    "\n",
    "# ds = dataset\n",
    "ds_raw = pd.read_csv(datafile)\n",
    "ds_raw.head()"
   ]
  },
  {
   "cell_type": "markdown",
   "metadata": {},
   "source": [
    "Process and prepare data in ds \"dataset\":\n",
    "    * Select those cars that finish the trip, i.e. have arrive time > 0."
   ]
  },
  {
   "cell_type": "code",
   "execution_count": 23,
   "metadata": {
    "collapsed": false,
    "scrolled": false
   },
   "outputs": [
    {
     "data": {
      "text/html": [
       "<div>\n",
       "<table border=\"1\" class=\"dataframe\">\n",
       "  <thead>\n",
       "    <tr style=\"text-align: right;\">\n",
       "      <th></th>\n",
       "      <th>id</th>\n",
       "      <th>t_depart_secs</th>\n",
       "      <th>t_arrival_secs</th>\n",
       "      <th>t_traveltime_secs</th>\n",
       "      <th>origin</th>\n",
       "      <th>destiny</th>\n",
       "      <th>route_detail</th>\n",
       "      <th>route_path_num</th>\n",
       "      <th>is_attended</th>\n",
       "      <th>has_finished</th>\n",
       "    </tr>\n",
       "  </thead>\n",
       "  <tbody>\n",
       "    <tr>\n",
       "      <th>0</th>\n",
       "      <td>2304</td>\n",
       "      <td>0</td>\n",
       "      <td>241</td>\n",
       "      <td>241</td>\n",
       "      <td>1/11to2/11</td>\n",
       "      <td>11/3to12/3</td>\n",
       "      <td>1/11to2/11:2/11to3/11:3/11to4/11:4/11to5/11:5/...</td>\n",
       "      <td>19</td>\n",
       "      <td>False</td>\n",
       "      <td>True</td>\n",
       "    </tr>\n",
       "    <tr>\n",
       "      <th>1</th>\n",
       "      <td>3126</td>\n",
       "      <td>0</td>\n",
       "      <td>161</td>\n",
       "      <td>161</td>\n",
       "      <td>bottom7to7/0</td>\n",
       "      <td>10/9to10/10</td>\n",
       "      <td>bottom7to7/0:7/0to7/1:7/1to7/2:7/2to7/3:7/3to7...</td>\n",
       "      <td>14</td>\n",
       "      <td>True</td>\n",
       "      <td>True</td>\n",
       "    </tr>\n",
       "    <tr>\n",
       "      <th>2</th>\n",
       "      <td>74</td>\n",
       "      <td>0</td>\n",
       "      <td>373</td>\n",
       "      <td>373</td>\n",
       "      <td>left15to0/15</td>\n",
       "      <td>15/0tobottom15</td>\n",
       "      <td>left15to0/15:0/15to0/14:0/14to0/13:0/13to0/12:...</td>\n",
       "      <td>32</td>\n",
       "      <td>True</td>\n",
       "      <td>True</td>\n",
       "    </tr>\n",
       "    <tr>\n",
       "      <th>3</th>\n",
       "      <td>65</td>\n",
       "      <td>0</td>\n",
       "      <td>382</td>\n",
       "      <td>382</td>\n",
       "      <td>left15to0/15</td>\n",
       "      <td>15/0tobottom15</td>\n",
       "      <td>left15to0/15:0/15to0/14:0/14to0/13:0/13to0/12:...</td>\n",
       "      <td>32</td>\n",
       "      <td>True</td>\n",
       "      <td>True</td>\n",
       "    </tr>\n",
       "    <tr>\n",
       "      <th>4</th>\n",
       "      <td>690</td>\n",
       "      <td>0</td>\n",
       "      <td>35</td>\n",
       "      <td>35</td>\n",
       "      <td>13/7to14/7</td>\n",
       "      <td>14/6to14/5</td>\n",
       "      <td>13/7to14/7:14/7to14/6:14/6to14/5:</td>\n",
       "      <td>3</td>\n",
       "      <td>True</td>\n",
       "      <td>True</td>\n",
       "    </tr>\n",
       "  </tbody>\n",
       "</table>\n",
       "</div>"
      ],
      "text/plain": [
       "     id  t_depart_secs  t_arrival_secs  t_traveltime_secs        origin  \\\n",
       "0  2304              0             241                241    1/11to2/11   \n",
       "1  3126              0             161                161  bottom7to7/0   \n",
       "2    74              0             373                373  left15to0/15   \n",
       "3    65              0             382                382  left15to0/15   \n",
       "4   690              0              35                 35    13/7to14/7   \n",
       "\n",
       "          destiny                                       route_detail  \\\n",
       "0      11/3to12/3  1/11to2/11:2/11to3/11:3/11to4/11:4/11to5/11:5/...   \n",
       "1     10/9to10/10  bottom7to7/0:7/0to7/1:7/1to7/2:7/2to7/3:7/3to7...   \n",
       "2  15/0tobottom15  left15to0/15:0/15to0/14:0/14to0/13:0/13to0/12:...   \n",
       "3  15/0tobottom15  left15to0/15:0/15to0/14:0/14to0/13:0/13to0/12:...   \n",
       "4      14/6to14/5                  13/7to14/7:14/7to14/6:14/6to14/5:   \n",
       "\n",
       "   route_path_num is_attended has_finished  \n",
       "0              19       False         True  \n",
       "1              14        True         True  \n",
       "2              32        True         True  \n",
       "3              32        True         True  \n",
       "4               3        True         True  "
      ]
     },
     "execution_count": 23,
     "metadata": {},
     "output_type": "execute_result"
    }
   ],
   "source": [
    "ds = ds_raw.loc[ ds_raw['t_arrival_secs'] > 0 ]\n",
    "ds.head()"
   ]
  },
  {
   "cell_type": "code",
   "execution_count": 24,
   "metadata": {
    "collapsed": false
   },
   "outputs": [
    {
     "name": "stdout",
     "output_type": "stream",
     "text": [
      "Experiment: data_Grid_160926_124432 \n",
      " Trips Total: 3400 \n",
      "Trips Completed: 3390 \n",
      "   * Travel time (mean): 197.1038348082596 \n",
      "   * Travel time (median): 176.0 \n",
      "   * Route lengths (mean): 1 \n",
      "   * Route lengths (median): 1 \n",
      "   * Route paths (mean): 14.714159292035399 \n",
      "   * Route paths (median): 13.0 \n",
      "\n"
     ]
    },
    {
     "data": {
      "image/png": "[encoded data removed]",
      "text/plain": [
       "<matplotlib.figure.Figure at 0x11bddfac8>"
      ]
     },
     "metadata": {},
     "output_type": "display_data"
    }
   ],
   "source": [
    "travel_times = ds['t_traveltime_secs']\n",
    "cols = 80\n",
    "\n",
    "plt.figure(figsize=(18,8)) \n",
    "y_vals, x_bins, patches = plt.hist(travel_times, cols, normed=0, facecolor='green', alpha=0.50)\n",
    "x_mean = np.mean(travel_times)\n",
    "x_median = np.median(travel_times)\n",
    "y_mean = np.mean(y_vals)\n",
    "y_median = np.median(y_vals)\n",
    "r_mean = np.mean(ds['route_path_num'])\n",
    "r_median = np.median(ds['route_path_num'])\n",
    "# l_mean = np.mean(ds['route_length'])\n",
    "# l_median = np.median(ds['route_length'])\n",
    "l_mean = 1\n",
    "l_median = 1\n",
    "\n",
    "# add a 'best fit' line\n",
    "y1_vals = np.append( y_vals, y_vals[cols-1] )\n",
    "\n",
    "x2_mean = [ x_mean for i in y1_vals ]\n",
    "x3_median = [ x_median for i in y1_vals ]\n",
    "y2_mean = [ y_mean for i in x_bins ]\n",
    "y3_median = [ y_median for i in x_bins ]\n",
    "\n",
    "# print( \"X-VALS: \", len(x_bins), \" \", x_bins.__repr__, )\n",
    "# print( \"Y_VALS: \", len(y1_vals), \" \", y1_vals.__repr__, )\n",
    "# print( \"X-MEAN: \", len(x2_mean), \" \", x2_mean.__repr__, )\n",
    "# print( \"X-MEDIAN: \", len(x3_median), \" \", x3_median.__repr__, )\n",
    "\n",
    "print(\n",
    "    \"Experiment:\", experiment, \"\\n\",\n",
    "    \"Trips Total:\", ds_raw['id'].count(), \"\\n\"\n",
    "    \"Trips Completed:\", travel_times.count(), \"\\n\"\n",
    "    \"   * Travel time (mean):\", x_mean, \"\\n\",\n",
    "    \"  * Travel time (median):\", x_median, \"\\n\",\n",
    "    \"  * Route lengths (mean):\", l_mean, \"\\n\",\n",
    "    \"  * Route lengths (median):\", l_median, \"\\n\",\n",
    "    \"  * Route paths (mean):\", r_mean, \"\\n\",\n",
    "    \"  * Route paths (median):\", r_median, \"\\n\",\n",
    "    )\n",
    "\n",
    "line_estimation = plt.plot(x_bins, y1_vals, 'r-', label='Estimation', linewidth=2, color='darkgreen')\n",
    "line_mean = plt.plot(x2_mean, y1_vals, label='Mean', linestyle='-', linewidth=2, color='blue')\n",
    "line_median = plt.plot(x3_median, y1_vals, label='Median', linestyle='-', linewidth=2, color='red')\n",
    "\n",
    "plt.xlabel('Travel Time')\n",
    "plt.ylabel('Frecuency')\n",
    "# plt.title(r'$\\mathrm{Histogram\\ of\\ Travel Times: }\\ $' + experiment )\n",
    "plt.title(\"Travel Times Histogram: \"+experiment )\n",
    "mean_line = mlines.Line2D([], [], color='blue', markersize=1, label='Mean')\n",
    "median_line = mlines.Line2D([], [], color='red', markersize=1, label='Median')\n",
    "plt.legend(handles=[median_line, mean_line], bbox_to_anchor=(1.15, 0.9))\n",
    "\n",
    "# plt.axis([travel_times.min(), travel_times.max()+1, 0, 0.03])\n",
    "plt.grid(True)\n",
    "\n",
    "# If plotting OUTSIDE the notebook, set interactive mode ON/OFF\n",
    "# plt.ioff()\n",
    "# plt.ion()\n",
    "\n",
    "plt.show()"
   ]
  },
  {
   "cell_type": "markdown",
   "metadata": {
    "collapsed": true
   },
   "source": [
    "### Results\n",
    "Describe here your experiment findings."
   ]
  },
  {
   "cell_type": "markdown",
   "metadata": {
    "collapsed": true
   },
   "source": [
    "### Conclusions\n",
    "Describe here your experiment conclusions if any."
   ]
  }
 ],
 "metadata": {
  "anaconda-cloud": {},
  "kernelspec": {
   "display_name": "Python [Root]",
   "language": "python",
   "name": "Python [Root]"
  },
  "language_info": {
   "codemirror_mode": {
    "name": "ipython",
    "version": 3
   },
   "file_extension": ".py",
   "mimetype": "text/x-python",
   "name": "python",
   "nbconvert_exporter": "python",
   "pygments_lexer": "ipython3",
   "version": "3.5.2"
  }
 },
 "nbformat": 4,
 "nbformat_minor": 0
}
